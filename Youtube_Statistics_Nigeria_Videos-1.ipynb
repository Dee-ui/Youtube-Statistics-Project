{
 "cells": [
  {
   "cell_type": "code",
   "execution_count": null,
   "metadata": {
    "colab": {
     "base_uri": "https://localhost:8080/"
    },
    "executionInfo": {
     "elapsed": 12096,
     "status": "ok",
     "timestamp": 1720262562950,
     "user": {
      "displayName": "Dauda Agbonoga",
      "userId": "07280758074640827433"
     },
     "user_tz": 240
    },
    "id": "pYZjjAQXIdzO",
    "outputId": "8ad29ba3-656f-415f-aa24-b429cb3328e5"
   },
   "outputs": [
    {
     "name": "stdout",
     "output_type": "stream",
     "text": [
      "Collecting python-dotenv\n",
      "  Downloading python_dotenv-1.0.1-py3-none-any.whl (19 kB)\n",
      "Installing collected packages: python-dotenv\n",
      "Successfully installed python-dotenv-1.0.1\n",
      "Drive already mounted at /content/drive; to attempt to forcibly remount, call drive.mount(\"/content/drive\", force_remount=True).\n"
     ]
    }
   ],
   "source": [
    "# Install python-dotenv\n",
    "!pip install python-dotenv\n",
    "\n",
    "# Mount Google Drive\n",
    "from google.colab import drive\n",
    "drive.mount('/content/drive')"
   ]
  },
  {
   "cell_type": "code",
   "execution_count": null,
   "metadata": {
    "id": "Ik1G_nuqpUvE"
   },
   "outputs": [],
   "source": [
    "# Load the .env file from Google Drive\n",
    "from dotenv import load_dotenv\n",
    "import os\n",
    "\n",
    "# Change the path to where you have uploaded your .env file\n",
    "dotenv_path = '/content/drive/MyDrive/Colab Notebooks/Youtube_Statistics_Nigeria_Videos/.env'\n",
    "load_dotenv(dotenv_path)\n",
    "\n",
    "# Access the environment variables\n",
    "api_key = os.getenv('my_api_key')\n",
    "\n",
    "# print(f'API_KEY: {api_key}')"
   ]
  },
  {
   "cell_type": "code",
   "execution_count": null,
   "metadata": {
    "id": "poPWmfGObtiO"
   },
   "outputs": [],
   "source": [
    "# Install google api python client\n",
    "#!pip install google-api-python-client"
   ]
  },
  {
   "cell_type": "markdown",
   "metadata": {
    "id": "nUTkL27EzUOr"
   },
   "source": [
    "### Getting the top 1000 most popular videos in Nigeria for the past 12 months."
   ]
  },
  {
   "cell_type": "code",
   "execution_count": null,
   "metadata": {
    "id": "iKd8z4L8-Xfv"
   },
   "outputs": [],
   "source": [
    "\n",
    "from googleapiclient.discovery import build\n",
    "from datetime import datetime, timedelta\n",
    "import pytz\n",
    "\n",
    "# Initialize the YouTube API client\n",
    "youtube = build('youtube', 'v3', developerKey=api_key)\n",
    "\n",
    "# Get the date one year ago from today\n",
    "one_year_ago = (datetime.now(pytz.timezone('Africa/Lagos')) - timedelta(days=365)).isoformat(\"T\")\n",
    "\n",
    "# Function to get videos with pagination\n",
    "def get_videos(region_code, max_results, published_after):\n",
    "    videos = []\n",
    "    next_page_token = None\n",
    "\n",
    "    while len(videos) < max_results:\n",
    "        # Use search.list to find videos\n",
    "        search_request = youtube.search().list(\n",
    "            part='id',\n",
    "            type='video',\n",
    "            regionCode=region_code,\n",
    "            maxResults=50,\n",
    "            pageToken=next_page_token,\n",
    "            publishedAfter=published_after\n",
    "        )\n",
    "        search_response = search_request.execute()\n",
    "\n",
    "        # Collect video IDs\n",
    "        video_ids = [item['id']['videoId'] for item in search_response['items']]\n",
    "\n",
    "        # Get video details using videos.list\n",
    "        if video_ids:\n",
    "            video_request = youtube.videos().list(\n",
    "                part='snippet,contentDetails,statistics',\n",
    "                id=','.join(video_ids)\n",
    "            )\n",
    "            video_response = video_request.execute()\n",
    "            videos.extend(video_response['items'])\n",
    "\n",
    "        next_page_token = search_response.get('nextPageToken')\n",
    "\n",
    "        if not next_page_token:\n",
    "            break\n",
    "\n",
    "    return videos[:max_results]\n",
    "\n",
    "# Function to sort videos by view count\n",
    "def sort_videos_by_views(videos):\n",
    "    return sorted(videos, key=lambda x: int(x['statistics']['viewCount']), reverse=True)\n",
    "\n",
    "# Get the top 1000 most popular videos\n",
    "videos = get_videos('NG', 1000, one_year_ago)\n",
    "popular_videos = sort_videos_by_views(videos)[:1000]"
   ]
  },
  {
   "cell_type": "markdown",
   "metadata": {
    "id": "Q9IhVXAS3AsD"
   },
   "source": [
    "### Save output to a csv file"
   ]
  },
  {
   "cell_type": "code",
   "execution_count": null,
   "metadata": {
    "colab": {
     "base_uri": "https://localhost:8080/",
     "height": 17
    },
    "executionInfo": {
     "elapsed": 33057,
     "status": "ok",
     "timestamp": 1720262630363,
     "user": {
      "displayName": "Dauda Agbonoga",
      "userId": "07280758074640827433"
     },
     "user_tz": 240
    },
    "id": "tqRudVFz3Ez2",
    "outputId": "46b9fd64-c31c-411f-e50a-f0168cfe4299"
   },
   "outputs": [
    {
     "data": {
      "application/javascript": [
       "\n",
       "    async function download(id, filename, size) {\n",
       "      if (!google.colab.kernel.accessAllowed) {\n",
       "        return;\n",
       "      }\n",
       "      const div = document.createElement('div');\n",
       "      const label = document.createElement('label');\n",
       "      label.textContent = `Downloading \"${filename}\": `;\n",
       "      div.appendChild(label);\n",
       "      const progress = document.createElement('progress');\n",
       "      progress.max = size;\n",
       "      div.appendChild(progress);\n",
       "      document.body.appendChild(div);\n",
       "\n",
       "      const buffers = [];\n",
       "      let downloaded = 0;\n",
       "\n",
       "      const channel = await google.colab.kernel.comms.open(id);\n",
       "      // Send a message to notify the kernel that we're ready.\n",
       "      channel.send({})\n",
       "\n",
       "      for await (const message of channel.messages) {\n",
       "        // Send a message to notify the kernel that we're ready.\n",
       "        channel.send({})\n",
       "        if (message.buffers) {\n",
       "          for (const buffer of message.buffers) {\n",
       "            buffers.push(buffer);\n",
       "            downloaded += buffer.byteLength;\n",
       "            progress.value = downloaded;\n",
       "          }\n",
       "        }\n",
       "      }\n",
       "      const blob = new Blob(buffers, {type: 'application/binary'});\n",
       "      const a = document.createElement('a');\n",
       "      a.href = window.URL.createObjectURL(blob);\n",
       "      a.download = filename;\n",
       "      div.appendChild(a);\n",
       "      a.click();\n",
       "      div.remove();\n",
       "    }\n",
       "  "
      ],
      "text/plain": [
       "<IPython.core.display.Javascript object>"
      ]
     },
     "metadata": {},
     "output_type": "display_data"
    },
    {
     "data": {
      "application/javascript": [
       "download(\"download_7042377e-4ebc-496a-b471-ebbe8553c0e6\", \"popular_videos.csv\", 68352)"
      ],
      "text/plain": [
       "<IPython.core.display.Javascript object>"
      ]
     },
     "metadata": {},
     "output_type": "display_data"
    }
   ],
   "source": [
    "import csv\n",
    "from google.colab import files\n",
    "\n",
    "# Save the output to a CSV file\n",
    "with open('popular_videos.csv', 'w', newline='') as csvfile:\n",
    "    writer = csv.writer(csvfile)\n",
    "    writer.writerow(['video_id', 'title', 'published_at', 'view_count', 'duration', 'tags'])  # header row with added tags column\n",
    "    for video in popular_videos:\n",
    "        video_id = video['id']\n",
    "        duration_request = youtube.videos().list(\n",
    "            part='contentDetails',\n",
    "            id=video_id\n",
    "        )\n",
    "        duration_response = duration_request.execute()\n",
    "        duration = duration_response['items'][0]['contentDetails']['duration']\n",
    "\n",
    "        tags_request = youtube.videoCategories().list(\n",
    "            part='snippet',\n",
    "            id=video_id\n",
    "        )\n",
    "        tags_response = tags_request.execute()\n",
    "        tags = ','.join([tag['snippet']['title'] for tag in tags_response['items']])\n",
    "\n",
    "        writer.writerow([video['id'], video['snippet']['title'], video['snippet']['publishedAt'], video['statistics']['viewCount'], duration, tags])\n",
    "# Download the file\n",
    "files.download('popular_videos.csv')"
   ]
  },
  {
   "cell_type": "markdown",
   "metadata": {
    "id": "ROc2z27Y3k8R"
   },
   "source": [
    "### Save output to a .json file"
   ]
  },
  {
   "cell_type": "code",
   "execution_count": null,
   "metadata": {
    "colab": {
     "base_uri": "https://localhost:8080/",
     "height": 17
    },
    "executionInfo": {
     "elapsed": 395,
     "status": "ok",
     "timestamp": 1720234917793,
     "user": {
      "displayName": "Dauda Agbonoga",
      "userId": "07280758074640827433"
     },
     "user_tz": 240
    },
    "id": "_O4Ymp0y4C7E",
    "outputId": "d5df6550-4807-4f4b-cabc-f767727c2c1e"
   },
   "outputs": [
    {
     "data": {
      "application/javascript": [
       "\n",
       "    async function download(id, filename, size) {\n",
       "      if (!google.colab.kernel.accessAllowed) {\n",
       "        return;\n",
       "      }\n",
       "      const div = document.createElement('div');\n",
       "      const label = document.createElement('label');\n",
       "      label.textContent = `Downloading \"${filename}\": `;\n",
       "      div.appendChild(label);\n",
       "      const progress = document.createElement('progress');\n",
       "      progress.max = size;\n",
       "      div.appendChild(progress);\n",
       "      document.body.appendChild(div);\n",
       "\n",
       "      const buffers = [];\n",
       "      let downloaded = 0;\n",
       "\n",
       "      const channel = await google.colab.kernel.comms.open(id);\n",
       "      // Send a message to notify the kernel that we're ready.\n",
       "      channel.send({})\n",
       "\n",
       "      for await (const message of channel.messages) {\n",
       "        // Send a message to notify the kernel that we're ready.\n",
       "        channel.send({})\n",
       "        if (message.buffers) {\n",
       "          for (const buffer of message.buffers) {\n",
       "            buffers.push(buffer);\n",
       "            downloaded += buffer.byteLength;\n",
       "            progress.value = downloaded;\n",
       "          }\n",
       "        }\n",
       "      }\n",
       "      const blob = new Blob(buffers, {type: 'application/binary'});\n",
       "      const a = document.createElement('a');\n",
       "      a.href = window.URL.createObjectURL(blob);\n",
       "      a.download = filename;\n",
       "      div.appendChild(a);\n",
       "      a.click();\n",
       "      div.remove();\n",
       "    }\n",
       "  "
      ],
      "text/plain": [
       "<IPython.core.display.Javascript object>"
      ]
     },
     "metadata": {},
     "output_type": "display_data"
    },
    {
     "data": {
      "application/javascript": [
       "download(\"download_4aaa8061-e62a-46b8-9a6f-2c976005a3c5\", \"popular_videos.json\", 2225179)"
      ],
      "text/plain": [
       "<IPython.core.display.Javascript object>"
      ]
     },
     "metadata": {},
     "output_type": "display_data"
    }
   ],
   "source": [
    "import json\n",
    "with open('popular_videos.json', 'w') as jsonfile:\n",
    "    json.dump(popular_videos, jsonfile, indent=4)\n",
    "\n",
    "# Download the file\n",
    "files.download('popular_videos.json')"
   ]
  },
  {
   "cell_type": "markdown",
   "metadata": {
    "id": "cKJol0PGAv7-"
   },
   "source": [
    "### Import the csv file for analysis"
   ]
  },
  {
   "cell_type": "code",
   "execution_count": null,
   "metadata": {
    "colab": {
     "base_uri": "https://localhost:8080/",
     "height": 434
    },
    "executionInfo": {
     "elapsed": 437,
     "status": "ok",
     "timestamp": 1720262766389,
     "user": {
      "displayName": "Dauda Agbonoga",
      "userId": "07280758074640827433"
     },
     "user_tz": 240
    },
    "id": "dldN8elaAw-u",
    "outputId": "f544f99c-7a6c-4c24-9b46-5aa6df176cf8"
   },
   "outputs": [
    {
     "data": {
      "application/vnd.google.colaboratory.intrinsic+json": {
       "summary": "{\n  \"name\": \"popular_videos\",\n  \"rows\": 592,\n  \"fields\": [\n    {\n      \"column\": \"video_id\",\n      \"properties\": {\n        \"dtype\": \"string\",\n        \"num_unique_values\": 498,\n        \"samples\": [\n          \"fBwzsUZnqUQ\",\n          \"QMD9oUuRs-E\",\n          \"ZFLjk_fj79o\"\n        ],\n        \"semantic_type\": \"\",\n        \"description\": \"\"\n      }\n    },\n    {\n      \"column\": \"title\",\n      \"properties\": {\n        \"dtype\": \"string\",\n        \"num_unique_values\": 497,\n        \"samples\": [\n          \"H\\u1ecdc \\u0111\\u01b0\\u1ee3c g\\u00ec t\\u1eeb c\\u00e1c anh h\\u00f9ng trong Disney #w2w #fyp\",\n          \"Flavour - Her Excellency (Nwunye Odogwu) (Official Video)\",\n          \"NOOO THAT WAS SO WRONG!! \\ud83e\\udd7a\\ud83e\\udd2f HEARTBREAKING!! #reddit #baking #askreddit #shortsvideo\"\n        ],\n        \"semantic_type\": \"\",\n        \"description\": \"\"\n      }\n    },\n    {\n      \"column\": \"published_at\",\n      \"properties\": {\n        \"dtype\": \"object\",\n        \"num_unique_values\": 498,\n        \"samples\": [\n          \"2024-07-05T16:59:56Z\",\n          \"2024-06-21T13:00:28Z\",\n          \"2024-06-27T12:48:54Z\"\n        ],\n        \"semantic_type\": \"\",\n        \"description\": \"\"\n      }\n    },\n    {\n      \"column\": \"view_count\",\n      \"properties\": {\n        \"dtype\": \"number\",\n        \"std\": 15128655,\n        \"min\": 1712,\n        \"max\": 252504010,\n        \"num_unique_values\": 498,\n        \"samples\": [\n          44986,\n          2705329,\n          579539\n        ],\n        \"semantic_type\": \"\",\n        \"description\": \"\"\n      }\n    },\n    {\n      \"column\": \"duration\",\n      \"properties\": {\n        \"dtype\": \"category\",\n        \"num_unique_values\": 256,\n        \"samples\": [\n          \"PT50M44S\",\n          \"PT14S\",\n          \"PT3H5M45S\"\n        ],\n        \"semantic_type\": \"\",\n        \"description\": \"\"\n      }\n    },\n    {\n      \"column\": \"tags\",\n      \"properties\": {\n        \"dtype\": \"number\",\n        \"std\": null,\n        \"min\": null,\n        \"max\": null,\n        \"num_unique_values\": 0,\n        \"samples\": [],\n        \"semantic_type\": \"\",\n        \"description\": \"\"\n      }\n    }\n  ]\n}",
       "type": "dataframe",
       "variable_name": "popular_videos"
      },
      "text/html": [
       "\n",
       "  <div id=\"df-37ce196d-9b77-4079-92c6-a0f4e6b5ec2e\" class=\"colab-df-container\">\n",
       "    <div>\n",
       "<style scoped>\n",
       "    .dataframe tbody tr th:only-of-type {\n",
       "        vertical-align: middle;\n",
       "    }\n",
       "\n",
       "    .dataframe tbody tr th {\n",
       "        vertical-align: top;\n",
       "    }\n",
       "\n",
       "    .dataframe thead th {\n",
       "        text-align: right;\n",
       "    }\n",
       "</style>\n",
       "<table border=\"1\" class=\"dataframe\">\n",
       "  <thead>\n",
       "    <tr style=\"text-align: right;\">\n",
       "      <th></th>\n",
       "      <th>video_id</th>\n",
       "      <th>title</th>\n",
       "      <th>published_at</th>\n",
       "      <th>view_count</th>\n",
       "      <th>duration</th>\n",
       "      <th>tags</th>\n",
       "    </tr>\n",
       "  </thead>\n",
       "  <tbody>\n",
       "    <tr>\n",
       "      <th>0</th>\n",
       "      <td>Jz_ACml012M</td>\n",
       "      <td>blind man 🤣🤣#abdulbkcomedy #funny #newfunnycom...</td>\n",
       "      <td>2023-12-24T19:01:38Z</td>\n",
       "      <td>252504010</td>\n",
       "      <td>PT19S</td>\n",
       "      <td>NaN</td>\n",
       "    </tr>\n",
       "    <tr>\n",
       "      <th>1</th>\n",
       "      <td>DCmKq1eu-Rs</td>\n",
       "      <td>I Did the imposible 🤯🫣    #sherco #BIKE #HIGHT...</td>\n",
       "      <td>2024-04-03T10:10:54Z</td>\n",
       "      <td>220987865</td>\n",
       "      <td>PT13S</td>\n",
       "      <td>NaN</td>\n",
       "    </tr>\n",
       "    <tr>\n",
       "      <th>2</th>\n",
       "      <td>7dok_dhNiMY</td>\n",
       "      <td>respect 😱🔥🤯</td>\n",
       "      <td>2024-06-16T13:50:09Z</td>\n",
       "      <td>56819874</td>\n",
       "      <td>PT25S</td>\n",
       "      <td>NaN</td>\n",
       "    </tr>\n",
       "    <tr>\n",
       "      <th>3</th>\n",
       "      <td>6mJzLrCGMb0</td>\n",
       "      <td>Catching fish with a dustpan Do you like this ...</td>\n",
       "      <td>2024-06-03T03:44:45Z</td>\n",
       "      <td>48723564</td>\n",
       "      <td>PT20S</td>\n",
       "      <td>NaN</td>\n",
       "    </tr>\n",
       "    <tr>\n",
       "      <th>4</th>\n",
       "      <td>OLbUNiCBY6M</td>\n",
       "      <td>GTA V  KARMA Spidey and Hulk #gta</td>\n",
       "      <td>2024-06-24T11:09:30Z</td>\n",
       "      <td>46645275</td>\n",
       "      <td>PT7S</td>\n",
       "      <td>NaN</td>\n",
       "    </tr>\n",
       "  </tbody>\n",
       "</table>\n",
       "</div>\n",
       "    <div class=\"colab-df-buttons\">\n",
       "\n",
       "  <div class=\"colab-df-container\">\n",
       "    <button class=\"colab-df-convert\" onclick=\"convertToInteractive('df-37ce196d-9b77-4079-92c6-a0f4e6b5ec2e')\"\n",
       "            title=\"Convert this dataframe to an interactive table.\"\n",
       "            style=\"display:none;\">\n",
       "\n",
       "  <svg xmlns=\"http://www.w3.org/2000/svg\" height=\"24px\" viewBox=\"0 -960 960 960\">\n",
       "    <path d=\"M120-120v-720h720v720H120Zm60-500h600v-160H180v160Zm220 220h160v-160H400v160Zm0 220h160v-160H400v160ZM180-400h160v-160H180v160Zm440 0h160v-160H620v160ZM180-180h160v-160H180v160Zm440 0h160v-160H620v160Z\"/>\n",
       "  </svg>\n",
       "    </button>\n",
       "\n",
       "  <style>\n",
       "    .colab-df-container {\n",
       "      display:flex;\n",
       "      gap: 12px;\n",
       "    }\n",
       "\n",
       "    .colab-df-convert {\n",
       "      background-color: #E8F0FE;\n",
       "      border: none;\n",
       "      border-radius: 50%;\n",
       "      cursor: pointer;\n",
       "      display: none;\n",
       "      fill: #1967D2;\n",
       "      height: 32px;\n",
       "      padding: 0 0 0 0;\n",
       "      width: 32px;\n",
       "    }\n",
       "\n",
       "    .colab-df-convert:hover {\n",
       "      background-color: #E2EBFA;\n",
       "      box-shadow: 0px 1px 2px rgba(60, 64, 67, 0.3), 0px 1px 3px 1px rgba(60, 64, 67, 0.15);\n",
       "      fill: #174EA6;\n",
       "    }\n",
       "\n",
       "    .colab-df-buttons div {\n",
       "      margin-bottom: 4px;\n",
       "    }\n",
       "\n",
       "    [theme=dark] .colab-df-convert {\n",
       "      background-color: #3B4455;\n",
       "      fill: #D2E3FC;\n",
       "    }\n",
       "\n",
       "    [theme=dark] .colab-df-convert:hover {\n",
       "      background-color: #434B5C;\n",
       "      box-shadow: 0px 1px 3px 1px rgba(0, 0, 0, 0.15);\n",
       "      filter: drop-shadow(0px 1px 2px rgba(0, 0, 0, 0.3));\n",
       "      fill: #FFFFFF;\n",
       "    }\n",
       "  </style>\n",
       "\n",
       "    <script>\n",
       "      const buttonEl =\n",
       "        document.querySelector('#df-37ce196d-9b77-4079-92c6-a0f4e6b5ec2e button.colab-df-convert');\n",
       "      buttonEl.style.display =\n",
       "        google.colab.kernel.accessAllowed ? 'block' : 'none';\n",
       "\n",
       "      async function convertToInteractive(key) {\n",
       "        const element = document.querySelector('#df-37ce196d-9b77-4079-92c6-a0f4e6b5ec2e');\n",
       "        const dataTable =\n",
       "          await google.colab.kernel.invokeFunction('convertToInteractive',\n",
       "                                                    [key], {});\n",
       "        if (!dataTable) return;\n",
       "\n",
       "        const docLinkHtml = 'Like what you see? Visit the ' +\n",
       "          '<a target=\"_blank\" href=https://colab.research.google.com/notebooks/data_table.ipynb>data table notebook</a>'\n",
       "          + ' to learn more about interactive tables.';\n",
       "        element.innerHTML = '';\n",
       "        dataTable['output_type'] = 'display_data';\n",
       "        await google.colab.output.renderOutput(dataTable, element);\n",
       "        const docLink = document.createElement('div');\n",
       "        docLink.innerHTML = docLinkHtml;\n",
       "        element.appendChild(docLink);\n",
       "      }\n",
       "    </script>\n",
       "  </div>\n",
       "\n",
       "\n",
       "<div id=\"df-f5ed1cf4-7ea0-44c1-8b28-6496dd290966\">\n",
       "  <button class=\"colab-df-quickchart\" onclick=\"quickchart('df-f5ed1cf4-7ea0-44c1-8b28-6496dd290966')\"\n",
       "            title=\"Suggest charts\"\n",
       "            style=\"display:none;\">\n",
       "\n",
       "<svg xmlns=\"http://www.w3.org/2000/svg\" height=\"24px\"viewBox=\"0 0 24 24\"\n",
       "     width=\"24px\">\n",
       "    <g>\n",
       "        <path d=\"M19 3H5c-1.1 0-2 .9-2 2v14c0 1.1.9 2 2 2h14c1.1 0 2-.9 2-2V5c0-1.1-.9-2-2-2zM9 17H7v-7h2v7zm4 0h-2V7h2v10zm4 0h-2v-4h2v4z\"/>\n",
       "    </g>\n",
       "</svg>\n",
       "  </button>\n",
       "\n",
       "<style>\n",
       "  .colab-df-quickchart {\n",
       "      --bg-color: #E8F0FE;\n",
       "      --fill-color: #1967D2;\n",
       "      --hover-bg-color: #E2EBFA;\n",
       "      --hover-fill-color: #174EA6;\n",
       "      --disabled-fill-color: #AAA;\n",
       "      --disabled-bg-color: #DDD;\n",
       "  }\n",
       "\n",
       "  [theme=dark] .colab-df-quickchart {\n",
       "      --bg-color: #3B4455;\n",
       "      --fill-color: #D2E3FC;\n",
       "      --hover-bg-color: #434B5C;\n",
       "      --hover-fill-color: #FFFFFF;\n",
       "      --disabled-bg-color: #3B4455;\n",
       "      --disabled-fill-color: #666;\n",
       "  }\n",
       "\n",
       "  .colab-df-quickchart {\n",
       "    background-color: var(--bg-color);\n",
       "    border: none;\n",
       "    border-radius: 50%;\n",
       "    cursor: pointer;\n",
       "    display: none;\n",
       "    fill: var(--fill-color);\n",
       "    height: 32px;\n",
       "    padding: 0;\n",
       "    width: 32px;\n",
       "  }\n",
       "\n",
       "  .colab-df-quickchart:hover {\n",
       "    background-color: var(--hover-bg-color);\n",
       "    box-shadow: 0 1px 2px rgba(60, 64, 67, 0.3), 0 1px 3px 1px rgba(60, 64, 67, 0.15);\n",
       "    fill: var(--button-hover-fill-color);\n",
       "  }\n",
       "\n",
       "  .colab-df-quickchart-complete:disabled,\n",
       "  .colab-df-quickchart-complete:disabled:hover {\n",
       "    background-color: var(--disabled-bg-color);\n",
       "    fill: var(--disabled-fill-color);\n",
       "    box-shadow: none;\n",
       "  }\n",
       "\n",
       "  .colab-df-spinner {\n",
       "    border: 2px solid var(--fill-color);\n",
       "    border-color: transparent;\n",
       "    border-bottom-color: var(--fill-color);\n",
       "    animation:\n",
       "      spin 1s steps(1) infinite;\n",
       "  }\n",
       "\n",
       "  @keyframes spin {\n",
       "    0% {\n",
       "      border-color: transparent;\n",
       "      border-bottom-color: var(--fill-color);\n",
       "      border-left-color: var(--fill-color);\n",
       "    }\n",
       "    20% {\n",
       "      border-color: transparent;\n",
       "      border-left-color: var(--fill-color);\n",
       "      border-top-color: var(--fill-color);\n",
       "    }\n",
       "    30% {\n",
       "      border-color: transparent;\n",
       "      border-left-color: var(--fill-color);\n",
       "      border-top-color: var(--fill-color);\n",
       "      border-right-color: var(--fill-color);\n",
       "    }\n",
       "    40% {\n",
       "      border-color: transparent;\n",
       "      border-right-color: var(--fill-color);\n",
       "      border-top-color: var(--fill-color);\n",
       "    }\n",
       "    60% {\n",
       "      border-color: transparent;\n",
       "      border-right-color: var(--fill-color);\n",
       "    }\n",
       "    80% {\n",
       "      border-color: transparent;\n",
       "      border-right-color: var(--fill-color);\n",
       "      border-bottom-color: var(--fill-color);\n",
       "    }\n",
       "    90% {\n",
       "      border-color: transparent;\n",
       "      border-bottom-color: var(--fill-color);\n",
       "    }\n",
       "  }\n",
       "</style>\n",
       "\n",
       "  <script>\n",
       "    async function quickchart(key) {\n",
       "      const quickchartButtonEl =\n",
       "        document.querySelector('#' + key + ' button');\n",
       "      quickchartButtonEl.disabled = true;  // To prevent multiple clicks.\n",
       "      quickchartButtonEl.classList.add('colab-df-spinner');\n",
       "      try {\n",
       "        const charts = await google.colab.kernel.invokeFunction(\n",
       "            'suggestCharts', [key], {});\n",
       "      } catch (error) {\n",
       "        console.error('Error during call to suggestCharts:', error);\n",
       "      }\n",
       "      quickchartButtonEl.classList.remove('colab-df-spinner');\n",
       "      quickchartButtonEl.classList.add('colab-df-quickchart-complete');\n",
       "    }\n",
       "    (() => {\n",
       "      let quickchartButtonEl =\n",
       "        document.querySelector('#df-f5ed1cf4-7ea0-44c1-8b28-6496dd290966 button');\n",
       "      quickchartButtonEl.style.display =\n",
       "        google.colab.kernel.accessAllowed ? 'block' : 'none';\n",
       "    })();\n",
       "  </script>\n",
       "</div>\n",
       "\n",
       "    </div>\n",
       "  </div>\n"
      ],
      "text/plain": [
       "      video_id                                              title  \\\n",
       "0  Jz_ACml012M  blind man 🤣🤣#abdulbkcomedy #funny #newfunnycom...   \n",
       "1  DCmKq1eu-Rs  I Did the imposible 🤯🫣    #sherco #BIKE #HIGHT...   \n",
       "2  7dok_dhNiMY                                        respect 😱🔥🤯   \n",
       "3  6mJzLrCGMb0  Catching fish with a dustpan Do you like this ...   \n",
       "4  OLbUNiCBY6M                  GTA V  KARMA Spidey and Hulk #gta   \n",
       "\n",
       "           published_at  view_count duration  tags  \n",
       "0  2023-12-24T19:01:38Z   252504010    PT19S   NaN  \n",
       "1  2024-04-03T10:10:54Z   220987865    PT13S   NaN  \n",
       "2  2024-06-16T13:50:09Z    56819874    PT25S   NaN  \n",
       "3  2024-06-03T03:44:45Z    48723564    PT20S   NaN  \n",
       "4  2024-06-24T11:09:30Z    46645275     PT7S   NaN  "
      ]
     },
     "execution_count": 12,
     "metadata": {},
     "output_type": "execute_result"
    }
   ],
   "source": [
    "import pandas as pd\n",
    "popular_videos = pd.read_csv(r\"/content/drive/MyDrive/Colab Notebooks/Youtube_Statistics_Nigeria_Videos/popular_videos (1).csv\")\n",
    "\n",
    "popular_videos.head()"
   ]
  },
  {
   "cell_type": "code",
   "execution_count": null,
   "metadata": {
    "colab": {
     "base_uri": "https://localhost:8080/"
    },
    "executionInfo": {
     "elapsed": 894,
     "status": "ok",
     "timestamp": 1720263281390,
     "user": {
      "displayName": "Dauda Agbonoga",
      "userId": "07280758074640827433"
     },
     "user_tz": 240
    },
    "id": "0dwIt9Z3COSZ",
    "outputId": "7dae4634-6ab4-4893-a3d5-c4bec2dbed8a"
   },
   "outputs": [
    {
     "data": {
      "text/plain": [
       "(592, 6)"
      ]
     },
     "execution_count": 13,
     "metadata": {},
     "output_type": "execute_result"
    }
   ],
   "source": [
    "popular_videos.shape"
   ]
  },
  {
   "cell_type": "code",
   "execution_count": null,
   "metadata": {
    "colab": {
     "base_uri": "https://localhost:8080/"
    },
    "executionInfo": {
     "elapsed": 436,
     "status": "ok",
     "timestamp": 1720263398534,
     "user": {
      "displayName": "Dauda Agbonoga",
      "userId": "07280758074640827433"
     },
     "user_tz": 240
    },
    "id": "Do4y9cEjrptv",
    "outputId": "106b58ac-346e-450f-983b-8ac8a4cd1be7"
   },
   "outputs": [
    {
     "data": {
      "text/plain": [
       "duration\n",
       "PT1M1S        45\n",
       "PT1M          40\n",
       "PT19S         13\n",
       "PT59S         12\n",
       "PT20S         11\n",
       "              ..\n",
       "PT2H57M44S     1\n",
       "PT18M58S       1\n",
       "PT1H41M58S     1\n",
       "PT3H20M11S     1\n",
       "PT1H5M51S      1\n",
       "Name: count, Length: 256, dtype: int64"
      ]
     },
     "execution_count": 15,
     "metadata": {},
     "output_type": "execute_result"
    }
   ],
   "source": [
    "duration_counts = popular_videos['duration'].value_counts()\n",
    "duration_counts"
   ]
  },
  {
   "cell_type": "code",
   "execution_count": null,
   "metadata": {
    "colab": {
     "base_uri": "https://localhost:8080/"
    },
    "executionInfo": {
     "elapsed": 371,
     "status": "ok",
     "timestamp": 1720263540376,
     "user": {
      "displayName": "Dauda Agbonoga",
      "userId": "07280758074640827433"
     },
     "user_tz": 240
    },
    "id": "0tk-m9KWsLU9",
    "outputId": "886bbfac-d0c2-451d-aca4-00d973a9b9b7"
   },
   "outputs": [
    {
     "name": "stdout",
     "output_type": "stream",
     "text": [
      "Series([], Name: count, dtype: int64)\n"
     ]
    }
   ],
   "source": [
    "tag_counts = popular_videos['tags'].value_counts()\n",
    "print(tag_counts)"
   ]
  },
  {
   "cell_type": "markdown",
   "metadata": {
    "id": "WScFM5WAlcgB"
   },
   "source": [
    "Since the \"tags\" column is empty, it will be dropped.\n",
    "\n",
    "Using the \"duration\" column, a new column will be created to group the videos based on the following criteria. if the duration is;\n",
    "- less than ten minutes - \"<10mins\"\n",
    "- between 10mins and 1hr  - \"10mins - 1hr\"\n",
    "- btween 1hr and 2hrs - \"1hr - 2hr\"\n",
    "- above 2hrs - \">2hrs\""
   ]
  },
  {
   "cell_type": "code",
   "execution_count": null,
   "metadata": {
    "colab": {
     "base_uri": "https://localhost:8080/",
     "height": 434
    },
    "executionInfo": {
     "elapsed": 431,
     "status": "ok",
     "timestamp": 1720265343602,
     "user": {
      "displayName": "Dauda Agbonoga",
      "userId": "07280758074640827433"
     },
     "user_tz": 240
    },
    "id": "rONUe3L0ydRu",
    "outputId": "371263e6-a05d-4c59-b51a-71ed9e6473d6"
   },
   "outputs": [
    {
     "data": {
      "application/vnd.google.colaboratory.intrinsic+json": {
       "summary": "{\n  \"name\": \"popular_videos\",\n  \"rows\": 592,\n  \"fields\": [\n    {\n      \"column\": \"video_id\",\n      \"properties\": {\n        \"dtype\": \"string\",\n        \"num_unique_values\": 498,\n        \"samples\": [\n          \"fBwzsUZnqUQ\",\n          \"QMD9oUuRs-E\",\n          \"ZFLjk_fj79o\"\n        ],\n        \"semantic_type\": \"\",\n        \"description\": \"\"\n      }\n    },\n    {\n      \"column\": \"title\",\n      \"properties\": {\n        \"dtype\": \"string\",\n        \"num_unique_values\": 497,\n        \"samples\": [\n          \"H\\u1ecdc \\u0111\\u01b0\\u1ee3c g\\u00ec t\\u1eeb c\\u00e1c anh h\\u00f9ng trong Disney #w2w #fyp\",\n          \"Flavour - Her Excellency (Nwunye Odogwu) (Official Video)\",\n          \"NOOO THAT WAS SO WRONG!! \\ud83e\\udd7a\\ud83e\\udd2f HEARTBREAKING!! #reddit #baking #askreddit #shortsvideo\"\n        ],\n        \"semantic_type\": \"\",\n        \"description\": \"\"\n      }\n    },\n    {\n      \"column\": \"published_at\",\n      \"properties\": {\n        \"dtype\": \"object\",\n        \"num_unique_values\": 498,\n        \"samples\": [\n          \"2024-07-05T16:59:56Z\",\n          \"2024-06-21T13:00:28Z\",\n          \"2024-06-27T12:48:54Z\"\n        ],\n        \"semantic_type\": \"\",\n        \"description\": \"\"\n      }\n    },\n    {\n      \"column\": \"view_count\",\n      \"properties\": {\n        \"dtype\": \"number\",\n        \"std\": 15128655,\n        \"min\": 1712,\n        \"max\": 252504010,\n        \"num_unique_values\": 498,\n        \"samples\": [\n          44986,\n          2705329,\n          579539\n        ],\n        \"semantic_type\": \"\",\n        \"description\": \"\"\n      }\n    },\n    {\n      \"column\": \"duration\",\n      \"properties\": {\n        \"dtype\": \"timedelta64[ns]\",\n        \"num_unique_values\": 256,\n        \"samples\": [\n          \"0 days 00:50:44\",\n          \"0 days 00:00:14\",\n          \"0 days 03:05:45\"\n        ],\n        \"semantic_type\": \"\",\n        \"description\": \"\"\n      }\n    },\n    {\n      \"column\": \"duration_range\",\n      \"properties\": {\n        \"dtype\": \"category\",\n        \"num_unique_values\": 4,\n        \"samples\": [\n          \"1hr - 2hr\",\n          \"10mins - 1hr\",\n          \"<10mins\"\n        ],\n        \"semantic_type\": \"\",\n        \"description\": \"\"\n      }\n    }\n  ]\n}",
       "type": "dataframe",
       "variable_name": "popular_videos"
      },
      "text/html": [
       "\n",
       "  <div id=\"df-52f53363-fb0e-4e25-ad25-56f9f84963f4\" class=\"colab-df-container\">\n",
       "    <div>\n",
       "<style scoped>\n",
       "    .dataframe tbody tr th:only-of-type {\n",
       "        vertical-align: middle;\n",
       "    }\n",
       "\n",
       "    .dataframe tbody tr th {\n",
       "        vertical-align: top;\n",
       "    }\n",
       "\n",
       "    .dataframe thead th {\n",
       "        text-align: right;\n",
       "    }\n",
       "</style>\n",
       "<table border=\"1\" class=\"dataframe\">\n",
       "  <thead>\n",
       "    <tr style=\"text-align: right;\">\n",
       "      <th></th>\n",
       "      <th>video_id</th>\n",
       "      <th>title</th>\n",
       "      <th>published_at</th>\n",
       "      <th>view_count</th>\n",
       "      <th>duration</th>\n",
       "      <th>duration_range</th>\n",
       "    </tr>\n",
       "  </thead>\n",
       "  <tbody>\n",
       "    <tr>\n",
       "      <th>0</th>\n",
       "      <td>Jz_ACml012M</td>\n",
       "      <td>blind man 🤣🤣#abdulbkcomedy #funny #newfunnycom...</td>\n",
       "      <td>2023-12-24T19:01:38Z</td>\n",
       "      <td>252504010</td>\n",
       "      <td>0 days 00:00:19</td>\n",
       "      <td>&lt;10mins</td>\n",
       "    </tr>\n",
       "    <tr>\n",
       "      <th>1</th>\n",
       "      <td>DCmKq1eu-Rs</td>\n",
       "      <td>I Did the imposible 🤯🫣    #sherco #BIKE #HIGHT...</td>\n",
       "      <td>2024-04-03T10:10:54Z</td>\n",
       "      <td>220987865</td>\n",
       "      <td>0 days 00:00:13</td>\n",
       "      <td>&lt;10mins</td>\n",
       "    </tr>\n",
       "    <tr>\n",
       "      <th>2</th>\n",
       "      <td>7dok_dhNiMY</td>\n",
       "      <td>respect 😱🔥🤯</td>\n",
       "      <td>2024-06-16T13:50:09Z</td>\n",
       "      <td>56819874</td>\n",
       "      <td>0 days 00:00:25</td>\n",
       "      <td>&lt;10mins</td>\n",
       "    </tr>\n",
       "    <tr>\n",
       "      <th>3</th>\n",
       "      <td>6mJzLrCGMb0</td>\n",
       "      <td>Catching fish with a dustpan Do you like this ...</td>\n",
       "      <td>2024-06-03T03:44:45Z</td>\n",
       "      <td>48723564</td>\n",
       "      <td>0 days 00:00:20</td>\n",
       "      <td>&lt;10mins</td>\n",
       "    </tr>\n",
       "    <tr>\n",
       "      <th>4</th>\n",
       "      <td>OLbUNiCBY6M</td>\n",
       "      <td>GTA V  KARMA Spidey and Hulk #gta</td>\n",
       "      <td>2024-06-24T11:09:30Z</td>\n",
       "      <td>46645275</td>\n",
       "      <td>0 days 00:00:07</td>\n",
       "      <td>&lt;10mins</td>\n",
       "    </tr>\n",
       "  </tbody>\n",
       "</table>\n",
       "</div>\n",
       "    <div class=\"colab-df-buttons\">\n",
       "\n",
       "  <div class=\"colab-df-container\">\n",
       "    <button class=\"colab-df-convert\" onclick=\"convertToInteractive('df-52f53363-fb0e-4e25-ad25-56f9f84963f4')\"\n",
       "            title=\"Convert this dataframe to an interactive table.\"\n",
       "            style=\"display:none;\">\n",
       "\n",
       "  <svg xmlns=\"http://www.w3.org/2000/svg\" height=\"24px\" viewBox=\"0 -960 960 960\">\n",
       "    <path d=\"M120-120v-720h720v720H120Zm60-500h600v-160H180v160Zm220 220h160v-160H400v160Zm0 220h160v-160H400v160ZM180-400h160v-160H180v160Zm440 0h160v-160H620v160ZM180-180h160v-160H180v160Zm440 0h160v-160H620v160Z\"/>\n",
       "  </svg>\n",
       "    </button>\n",
       "\n",
       "  <style>\n",
       "    .colab-df-container {\n",
       "      display:flex;\n",
       "      gap: 12px;\n",
       "    }\n",
       "\n",
       "    .colab-df-convert {\n",
       "      background-color: #E8F0FE;\n",
       "      border: none;\n",
       "      border-radius: 50%;\n",
       "      cursor: pointer;\n",
       "      display: none;\n",
       "      fill: #1967D2;\n",
       "      height: 32px;\n",
       "      padding: 0 0 0 0;\n",
       "      width: 32px;\n",
       "    }\n",
       "\n",
       "    .colab-df-convert:hover {\n",
       "      background-color: #E2EBFA;\n",
       "      box-shadow: 0px 1px 2px rgba(60, 64, 67, 0.3), 0px 1px 3px 1px rgba(60, 64, 67, 0.15);\n",
       "      fill: #174EA6;\n",
       "    }\n",
       "\n",
       "    .colab-df-buttons div {\n",
       "      margin-bottom: 4px;\n",
       "    }\n",
       "\n",
       "    [theme=dark] .colab-df-convert {\n",
       "      background-color: #3B4455;\n",
       "      fill: #D2E3FC;\n",
       "    }\n",
       "\n",
       "    [theme=dark] .colab-df-convert:hover {\n",
       "      background-color: #434B5C;\n",
       "      box-shadow: 0px 1px 3px 1px rgba(0, 0, 0, 0.15);\n",
       "      filter: drop-shadow(0px 1px 2px rgba(0, 0, 0, 0.3));\n",
       "      fill: #FFFFFF;\n",
       "    }\n",
       "  </style>\n",
       "\n",
       "    <script>\n",
       "      const buttonEl =\n",
       "        document.querySelector('#df-52f53363-fb0e-4e25-ad25-56f9f84963f4 button.colab-df-convert');\n",
       "      buttonEl.style.display =\n",
       "        google.colab.kernel.accessAllowed ? 'block' : 'none';\n",
       "\n",
       "      async function convertToInteractive(key) {\n",
       "        const element = document.querySelector('#df-52f53363-fb0e-4e25-ad25-56f9f84963f4');\n",
       "        const dataTable =\n",
       "          await google.colab.kernel.invokeFunction('convertToInteractive',\n",
       "                                                    [key], {});\n",
       "        if (!dataTable) return;\n",
       "\n",
       "        const docLinkHtml = 'Like what you see? Visit the ' +\n",
       "          '<a target=\"_blank\" href=https://colab.research.google.com/notebooks/data_table.ipynb>data table notebook</a>'\n",
       "          + ' to learn more about interactive tables.';\n",
       "        element.innerHTML = '';\n",
       "        dataTable['output_type'] = 'display_data';\n",
       "        await google.colab.output.renderOutput(dataTable, element);\n",
       "        const docLink = document.createElement('div');\n",
       "        docLink.innerHTML = docLinkHtml;\n",
       "        element.appendChild(docLink);\n",
       "      }\n",
       "    </script>\n",
       "  </div>\n",
       "\n",
       "\n",
       "<div id=\"df-e5608f54-ecba-4346-825d-10f80d74f796\">\n",
       "  <button class=\"colab-df-quickchart\" onclick=\"quickchart('df-e5608f54-ecba-4346-825d-10f80d74f796')\"\n",
       "            title=\"Suggest charts\"\n",
       "            style=\"display:none;\">\n",
       "\n",
       "<svg xmlns=\"http://www.w3.org/2000/svg\" height=\"24px\"viewBox=\"0 0 24 24\"\n",
       "     width=\"24px\">\n",
       "    <g>\n",
       "        <path d=\"M19 3H5c-1.1 0-2 .9-2 2v14c0 1.1.9 2 2 2h14c1.1 0 2-.9 2-2V5c0-1.1-.9-2-2-2zM9 17H7v-7h2v7zm4 0h-2V7h2v10zm4 0h-2v-4h2v4z\"/>\n",
       "    </g>\n",
       "</svg>\n",
       "  </button>\n",
       "\n",
       "<style>\n",
       "  .colab-df-quickchart {\n",
       "      --bg-color: #E8F0FE;\n",
       "      --fill-color: #1967D2;\n",
       "      --hover-bg-color: #E2EBFA;\n",
       "      --hover-fill-color: #174EA6;\n",
       "      --disabled-fill-color: #AAA;\n",
       "      --disabled-bg-color: #DDD;\n",
       "  }\n",
       "\n",
       "  [theme=dark] .colab-df-quickchart {\n",
       "      --bg-color: #3B4455;\n",
       "      --fill-color: #D2E3FC;\n",
       "      --hover-bg-color: #434B5C;\n",
       "      --hover-fill-color: #FFFFFF;\n",
       "      --disabled-bg-color: #3B4455;\n",
       "      --disabled-fill-color: #666;\n",
       "  }\n",
       "\n",
       "  .colab-df-quickchart {\n",
       "    background-color: var(--bg-color);\n",
       "    border: none;\n",
       "    border-radius: 50%;\n",
       "    cursor: pointer;\n",
       "    display: none;\n",
       "    fill: var(--fill-color);\n",
       "    height: 32px;\n",
       "    padding: 0;\n",
       "    width: 32px;\n",
       "  }\n",
       "\n",
       "  .colab-df-quickchart:hover {\n",
       "    background-color: var(--hover-bg-color);\n",
       "    box-shadow: 0 1px 2px rgba(60, 64, 67, 0.3), 0 1px 3px 1px rgba(60, 64, 67, 0.15);\n",
       "    fill: var(--button-hover-fill-color);\n",
       "  }\n",
       "\n",
       "  .colab-df-quickchart-complete:disabled,\n",
       "  .colab-df-quickchart-complete:disabled:hover {\n",
       "    background-color: var(--disabled-bg-color);\n",
       "    fill: var(--disabled-fill-color);\n",
       "    box-shadow: none;\n",
       "  }\n",
       "\n",
       "  .colab-df-spinner {\n",
       "    border: 2px solid var(--fill-color);\n",
       "    border-color: transparent;\n",
       "    border-bottom-color: var(--fill-color);\n",
       "    animation:\n",
       "      spin 1s steps(1) infinite;\n",
       "  }\n",
       "\n",
       "  @keyframes spin {\n",
       "    0% {\n",
       "      border-color: transparent;\n",
       "      border-bottom-color: var(--fill-color);\n",
       "      border-left-color: var(--fill-color);\n",
       "    }\n",
       "    20% {\n",
       "      border-color: transparent;\n",
       "      border-left-color: var(--fill-color);\n",
       "      border-top-color: var(--fill-color);\n",
       "    }\n",
       "    30% {\n",
       "      border-color: transparent;\n",
       "      border-left-color: var(--fill-color);\n",
       "      border-top-color: var(--fill-color);\n",
       "      border-right-color: var(--fill-color);\n",
       "    }\n",
       "    40% {\n",
       "      border-color: transparent;\n",
       "      border-right-color: var(--fill-color);\n",
       "      border-top-color: var(--fill-color);\n",
       "    }\n",
       "    60% {\n",
       "      border-color: transparent;\n",
       "      border-right-color: var(--fill-color);\n",
       "    }\n",
       "    80% {\n",
       "      border-color: transparent;\n",
       "      border-right-color: var(--fill-color);\n",
       "      border-bottom-color: var(--fill-color);\n",
       "    }\n",
       "    90% {\n",
       "      border-color: transparent;\n",
       "      border-bottom-color: var(--fill-color);\n",
       "    }\n",
       "  }\n",
       "</style>\n",
       "\n",
       "  <script>\n",
       "    async function quickchart(key) {\n",
       "      const quickchartButtonEl =\n",
       "        document.querySelector('#' + key + ' button');\n",
       "      quickchartButtonEl.disabled = true;  // To prevent multiple clicks.\n",
       "      quickchartButtonEl.classList.add('colab-df-spinner');\n",
       "      try {\n",
       "        const charts = await google.colab.kernel.invokeFunction(\n",
       "            'suggestCharts', [key], {});\n",
       "      } catch (error) {\n",
       "        console.error('Error during call to suggestCharts:', error);\n",
       "      }\n",
       "      quickchartButtonEl.classList.remove('colab-df-spinner');\n",
       "      quickchartButtonEl.classList.add('colab-df-quickchart-complete');\n",
       "    }\n",
       "    (() => {\n",
       "      let quickchartButtonEl =\n",
       "        document.querySelector('#df-e5608f54-ecba-4346-825d-10f80d74f796 button');\n",
       "      quickchartButtonEl.style.display =\n",
       "        google.colab.kernel.accessAllowed ? 'block' : 'none';\n",
       "    })();\n",
       "  </script>\n",
       "</div>\n",
       "\n",
       "    </div>\n",
       "  </div>\n"
      ],
      "text/plain": [
       "      video_id                                              title  \\\n",
       "0  Jz_ACml012M  blind man 🤣🤣#abdulbkcomedy #funny #newfunnycom...   \n",
       "1  DCmKq1eu-Rs  I Did the imposible 🤯🫣    #sherco #BIKE #HIGHT...   \n",
       "2  7dok_dhNiMY                                        respect 😱🔥🤯   \n",
       "3  6mJzLrCGMb0  Catching fish with a dustpan Do you like this ...   \n",
       "4  OLbUNiCBY6M                  GTA V  KARMA Spidey and Hulk #gta   \n",
       "\n",
       "           published_at  view_count        duration duration_range  \n",
       "0  2023-12-24T19:01:38Z   252504010 0 days 00:00:19        <10mins  \n",
       "1  2024-04-03T10:10:54Z   220987865 0 days 00:00:13        <10mins  \n",
       "2  2024-06-16T13:50:09Z    56819874 0 days 00:00:25        <10mins  \n",
       "3  2024-06-03T03:44:45Z    48723564 0 days 00:00:20        <10mins  \n",
       "4  2024-06-24T11:09:30Z    46645275 0 days 00:00:07        <10mins  "
      ]
     },
     "execution_count": 20,
     "metadata": {},
     "output_type": "execute_result"
    }
   ],
   "source": [
    "import numpy as np\n",
    "popular_videos['duration'] = pd.to_timedelta(popular_videos['duration'])\n",
    "\n",
    "conditions = [\n",
    "    popular_videos['duration'] < '0 days 00:10:00',\n",
    "    (popular_videos['duration'] >= '0 days 00:10:00') & (popular_videos['duration'] < '0 days 01:00:00'),\n",
    "    (popular_videos['duration'] >= '0 days 01:00:00') & (popular_videos['duration'] < '0 days 02:00:00'),\n",
    "    popular_videos['duration'] >= '0 days 02:00:00'\n",
    "]\n",
    "\n",
    "choices = ['<10mins', '10mins - 1hr', '1hr - 2hr', '>2hrs']\n",
    "\n",
    "popular_videos['duration_range'] = np.select(conditions, choices)\n",
    "\n",
    "#drop the \"tags\" column\n",
    "popular_videos.drop(columns=['tags'], inplace=True)\n",
    "\n",
    "popular_videos.head()"
   ]
  },
  {
   "cell_type": "markdown",
   "metadata": {
    "id": "X6YX_3uBJiQs"
   },
   "source": [
    "### Plot the duration of each video against the number of views they have to know which video length tends to perform best."
   ]
  },
  {
   "cell_type": "code",
   "execution_count": null,
   "metadata": {
    "colab": {
     "base_uri": "https://localhost:8080/",
     "height": 299
    },
    "executionInfo": {
     "elapsed": 495,
     "status": "ok",
     "timestamp": 1720266203014,
     "user": {
      "displayName": "Dauda Agbonoga",
      "userId": "07280758074640827433"
     },
     "user_tz": 240
    },
    "id": "XB_C1Wsb1_zu",
    "outputId": "72366cb5-683b-4d83-9c43-1304a3648686"
   },
   "outputs": [
    {
     "data": {
      "image/png": "[encoded data removed]",
      "text/plain": [
       "<Figure size 640x480 with 1 Axes>"
      ]
     },
     "metadata": {},
     "output_type": "display_data"
    }
   ],
   "source": [
    "\n",
    "import seaborn as sns\n",
    "import matplotlib.pyplot as plt\n",
    "\n",
    "# Create a barplot of duration_range vs view counts\n",
    "sns.barplot(x='duration_range', y='view_count',\n",
    "            data=popular_videos, errorbar=None,\n",
    "            hue='duration_range', legend=False,\n",
    "            palette=['green', 'gold', 'grey', 'blue'])\n",
    "\n",
    "# Customize the plot\n",
    "plt.title('Video Duration vs View Count', fontweight='bold', fontsize=18)\n",
    "plt.xlabel('Duration Range', fontweight='bold', fontsize=15)\n",
    "plt.ylabel('View Count', fontweight='bold', fontsize=15)\n",
    "plt.xticks(rotation=45)\n",
    "plt.rcParams['axes.facecolor'] = 'white'\n",
    "plt.tight_layout(pad=2)\n",
    "\n",
    "# Show the plot\n",
    "plt.show()"
   ]
  },
  {
   "cell_type": "markdown",
   "metadata": {
    "id": "4Z5iBWDZ74NO"
   },
   "source": [
    "\n",
    "*From the above plot, we can see that, by far, videos below 10 minutes long tend to perform best with videos between 1hr and 2hrs coming a distant second with a difference of over 3.5million views.*\n",
    "\n",
    "*Videos above 2hrs and videos between 10mins-1hr perform the least.*\n",
    "\n",
    "###Now, let's figure out what tags/keywords title tends to perform the most using deep learning."
   ]
  },
  {
   "cell_type": "code",
   "execution_count": 35,
   "metadata": {
    "colab": {
     "base_uri": "https://localhost:8080/",
     "height": 1000
    },
    "executionInfo": {
     "elapsed": 2858,
     "status": "ok",
     "timestamp": 1720271461582,
     "user": {
      "displayName": "Dauda Agbonoga",
      "userId": "07280758074640827433"
     },
     "user_tz": 240
    },
    "id": "Evp7Fc0A76IE",
    "outputId": "00f8fb9d-ae36-4f93-9496-5a1b4eeaee27"
   },
   "outputs": [
    {
     "name": "stderr",
     "output_type": "stream",
     "text": [
      "[nltk_data] Downloading package punkt to /root/nltk_data...\n",
      "[nltk_data]   Package punkt is already up-to-date!\n",
      "[nltk_data] Downloading package stopwords to /root/nltk_data...\n",
      "[nltk_data]   Package stopwords is already up-to-date!\n"
     ]
    },
    {
     "data": {
      "image/png": "[encoded data removed]",
      "text/plain": [
       "<Figure size 640x480 with 1 Axes>"
      ]
     },
     "metadata": {},
     "output_type": "display_data"
    },
    {
     "name": "stdout",
     "output_type": "stream",
     "text": [
      "Cluster 0 Keywords:\n",
      "keywords\n",
      "movies      24\n",
      "2024        19\n",
      "nigerian    16\n",
      "latest      15\n",
      "full        10\n",
      "love         5\n",
      "sam          5\n",
      "maurice      5\n",
      "uche         4\n",
      "sonia        3\n",
      "Name: count, dtype: int64\n",
      "\n",
      "Cluster 1 Keywords:\n",
      "keywords\n",
      "shorts        71\n",
      "trending      12\n",
      "funny          7\n",
      "funniest       6\n",
      "gohan          5\n",
      "shortvideo     5\n",
      "dbz            5\n",
      "spiderman      5\n",
      "dance          5\n",
      "vs             4\n",
      "Name: count, dtype: int64\n",
      "\n",
      "Cluster 2 Keywords:\n",
      "keywords\n",
      "official      38\n",
      "video         32\n",
      "music         13\n",
      "x              8\n",
      "olamide        6\n",
      "visualizer     5\n",
      "ft             5\n",
      "bliss          4\n",
      "moses          4\n",
      "festizie       3\n",
      "Name: count, dtype: int64\n",
      "\n",
      "Cluster 3 Keywords:\n",
      "keywords\n",
      "movie        68\n",
      "2024         68\n",
      "latest       25\n",
      "new          21\n",
      "yoruba       18\n",
      "july         17\n",
      "nigerian     16\n",
      "drama        15\n",
      "nollywood    12\n",
      "2             8\n",
      "Name: count, dtype: int64\n",
      "\n",
      "Cluster 4 Keywords:\n",
      "keywords\n",
      "funny         24\n",
      "short         17\n",
      "viral         16\n",
      "2             14\n",
      "shortvideo    14\n",
      "comedy        13\n",
      "episode       11\n",
      "family        11\n",
      "shorts        11\n",
      "live          11\n",
      "Name: count, dtype: int64\n",
      "\n"
     ]
    }
   ],
   "source": [
    "\n",
    "import pandas as pd\n",
    "import re\n",
    "import string\n",
    "import nltk\n",
    "from nltk.corpus import stopwords\n",
    "from nltk.tokenize import word_tokenize\n",
    "from sklearn.feature_extraction.text import TfidfVectorizer\n",
    "from sklearn.cluster import KMeans\n",
    "import matplotlib.pyplot as plt\n",
    "import seaborn as sns\n",
    "\n",
    "\n",
    "# Preprocess text\n",
    "def preprocess_text(text):\n",
    "    text = text.lower()\n",
    "    text = re.sub(f\"[{re.escape(string.punctuation)}]\", \"\", text)\n",
    "    text = re.sub(r'\\s+', ' ', text).strip()\n",
    "    return text\n",
    "\n",
    "popular_videos['clean_title'] = popular_videos['title'].apply(preprocess_text)\n",
    "\n",
    "# Extract keywords\n",
    "nltk.download('punkt')\n",
    "nltk.download('stopwords')\n",
    "stop_words = set(stopwords.words('english'))\n",
    "\n",
    "def extract_keywords(text):\n",
    "    words = word_tokenize(text)\n",
    "    keywords = [word for word in words if word.isalnum() and word not in stop_words]\n",
    "    return keywords\n",
    "\n",
    "popular_videos['keywords'] = popular_videos['clean_title'].apply(extract_keywords)\n",
    "\n",
    "# Vectorize titles using TF-IDF\n",
    "vectorizer = TfidfVectorizer(max_features=100)\n",
    "X = vectorizer.fit_transform(popular_videos['clean_title']).toarray()\n",
    "\n",
    "# Cluster videos using KMeans\n",
    "num_clusters = 5\n",
    "kmeans = KMeans(n_clusters=num_clusters,\n",
    "                random_state=42,\n",
    "                n_init=10)\n",
    "popular_videos['cluster'] = kmeans.fit_predict(X)\n",
    "\n",
    "# Plot view counts per cluster using an horizontal Bar Plotplt.figure(figsize=(12, 8))\n",
    "view_counts_per_cluster = popular_videos.groupby('cluster')['view_count'].mean().reset_index()\n",
    "sns.barplot(x='view_count', y='cluster',\n",
    "            data=view_counts_per_cluster,\n",
    "            palette='viridis', orient='h',\n",
    "            hue='cluster', legend=False)\n",
    "plt.title('Mean View Counts per Cluster - Horizontal Bar Plot')\n",
    "plt.xlabel('Mean View Count')\n",
    "plt.ylabel('Cluster')\n",
    "plt.show()# Analyze the most common keywords in each cluster\n",
    "for i in range(num_clusters):\n",
    "    cluster_keywords = popular_videos[popular_videos['cluster'] == i]['keywords'].explode().value_counts().head(10)\n",
    "    print(f\"Cluster {i} Keywords:\\n{cluster_keywords}\\n\")"
   ]
  }
 ],
 "metadata": {
  "colab": {
   "authorship_tag": "ABX9TyOYkg7Vn/2ZumnFqDsxeKiD",
   "mount_file_id": "1JKmuQJ6EsfhaY0P1h5FAdBrwfwuPbCQS",
   "provenance": []
  },
  "kernelspec": {
   "display_name": "Python 3 (ipykernel)",
   "language": "python",
   "name": "python3"
  },
  "language_info": {
   "codemirror_mode": {
    "name": "ipython",
    "version": 3
   },
   "file_extension": ".py",
   "mimetype": "text/x-python",
   "name": "python",
   "nbconvert_exporter": "python",
   "pygments_lexer": "ipython3",
   "version": "3.11.7"
  }
 },
 "nbformat": 4,
 "nbformat_minor": 4
}
